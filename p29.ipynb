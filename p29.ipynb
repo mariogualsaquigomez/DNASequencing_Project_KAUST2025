{
 "cells": [
  {
   "cell_type": "markdown",
   "metadata": {},
   "source": [
    "## Problem 29: Find an Eulerian Cycle in a Graph\n",
    "\n",
    "#### Eulerian Cycle Problem\n",
    "Find an Eulerian cycle in a graph.\n",
    "\n",
    "> Given: An Eulerian directed graph, in the form of an adjacency list.\n",
    "\n",
    "> Return: An Eulerian cycle in this graph.\n",
    "\n",
    "\n",
    "<br>"
   ]
  },
  {
   "cell_type": "code",
   "execution_count": 62,
   "metadata": {},
   "outputs": [],
   "source": [
    "# ---- INPUT -----\n",
    "\n",
    "text = \"\"\"\n",
    "0 -> 3\n",
    "1 -> 0\n",
    "2 -> 1,6\n",
    "3 -> 2\n",
    "4 -> 2\n",
    "5 -> 4\n",
    "6 -> 5,8\n",
    "7 -> 9\n",
    "8 -> 7\n",
    "9 -> 6\n",
    "\"\"\""
   ]
  },
  {
   "cell_type": "code",
   "execution_count": 63,
   "metadata": {},
   "outputs": [
    {
     "data": {
      "text/plain": [
       "{'0': ['3'],\n",
       " '1': ['0'],\n",
       " '2': ['1', '6'],\n",
       " '3': ['2'],\n",
       " '4': ['2'],\n",
       " '5': ['4'],\n",
       " '6': ['5', '8'],\n",
       " '7': ['9'],\n",
       " '8': ['7'],\n",
       " '9': ['6']}"
      ]
     },
     "execution_count": 63,
     "metadata": {},
     "output_type": "execute_result"
    }
   ],
   "source": [
    "# pasring and building an adjacency dict (node -> list of neighbors)\n",
    "\n",
    "adj = {}\n",
    "nodes = set()\n",
    "\n",
    "for line in text.strip().splitlines():\n",
    "    left, right = [p.strip() for p in line.split(\"->\")]\n",
    "    u = left\n",
    "    v_list = [v.strip() for v in right.split(\",\")] if right else []\n",
    "    \n",
    "    \n",
    "    # tries to get val at u, if it doesnt exist itll initialize it to [], then appends v_list\n",
    "    adj[u] = adj.get(u, []) + v_list\n",
    "    nodes.add(u)\n",
    "    for v in v_list:\n",
    "        nodes.add(v)\n",
    "\n",
    "# error fixed (important): making sure nodes with zero out-degree appear, so we dont get stuck as we cycle\n",
    "for n in nodes:\n",
    "    if n not in adj:\n",
    "        adj[n] = []\n",
    "\n",
    "adj"
   ]
  },
  {
   "cell_type": "code",
   "execution_count": 64,
   "metadata": {},
   "outputs": [],
   "source": [
    "# important assumption: graph is eulerian, meaning all nodes have \n",
    "# outgoing edges equal to incoming edges for a given node\n",
    "# other: edges = nodes-1 for a closed walk\n",
    "\n",
    "def eulerian_cycle(adj):\n",
    "\n",
    "    # making a shallow copy \n",
    "    g = {u: list(vs) for u, vs in adj.items()}\n",
    "\n",
    "    # choose a start node with outgoing edges\n",
    "    start = next((u for u in g if g[u]), None)\n",
    "\n",
    "\n",
    "#     print(\"start: \", start)\n",
    "    stack, cycle = [start], []\n",
    "\n",
    "    while stack:\n",
    "        v = stack[-1]\n",
    "        \n",
    "        # if v exists, we pop from the adj_list, and append to stack\n",
    "        if g[v]:\n",
    "            w = g[v].pop()   # consume edge v->w\n",
    "            stack.append(w)\n",
    "            \n",
    "        # if no vs under that g (all popped for that g), then we pop from stack and add to cycle\n",
    "        else:\n",
    "            popped = stack.pop()\n",
    "            cycle.append(popped)\n",
    "            \n",
    "#         print(\"\\nstack: \", stack)\n",
    "#         print(\"cycle: \", cycle)\n",
    "#         print(g)\n",
    "\n",
    "    # reverse to correct order\n",
    "    cycle.reverse()  \n",
    "    \n",
    "    return cycle\n",
    "\n"
   ]
  },
  {
   "cell_type": "code",
   "execution_count": 65,
   "metadata": {},
   "outputs": [
    {
     "name": "stdout",
     "output_type": "stream",
     "text": [
      "0->3->2->6->8->7->9->6->5->4->2->1->0\n"
     ]
    }
   ],
   "source": [
    "cycle = eulerian_cycle(adj)\n",
    "\n",
    "path_str = \"->\".join(cycle)\n",
    "print(path_str)"
   ]
  }
 ],
 "metadata": {
  "kernelspec": {
   "display_name": "EXP1 (venv)",
   "language": "python",
   "name": "exp1-env"
  },
  "language_info": {
   "codemirror_mode": {
    "name": "ipython",
    "version": 3
   },
   "file_extension": ".py",
   "mimetype": "text/x-python",
   "name": "python",
   "nbconvert_exporter": "python",
   "pygments_lexer": "ipython3",
   "version": "3.13.5"
  }
 },
 "nbformat": 4,
 "nbformat_minor": 2
}
