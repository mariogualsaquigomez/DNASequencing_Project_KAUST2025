{
 "cells": [
  {
   "cell_type": "markdown",
   "metadata": {},
   "source": [
    "## Problem 27: Construct the De Bruijn Graph of a String\n",
    "\n",
    "\n",
    "#### De Bruijn Graph from a String Problem\n",
    "Construct the de Bruijn graph of a string.\n",
    "\n",
    "> Given: An integer k and a string Text.\n",
    "\n",
    "> Return: DeBruijnk(Text), in the form of an adjacency list.\n",
    "\n",
    "<br>"
   ]
  },
  {
   "cell_type": "code",
   "execution_count": 35,
   "metadata": {},
   "outputs": [],
   "source": [
    "# ----- INPUTS -----\n",
    "text = \"AAGATTCTCTAC\"\n",
    "k = 4"
   ]
  },
  {
   "cell_type": "markdown",
   "metadata": {},
   "source": [
    "```\n",
    "AAGATTCTCTAC\n",
    "\n",
    "      AAGA   AGAT   GATT   ATTC   TTCT\n",
    "   AAG -> AGA -> GAT -> ATT -> TTC -> TCT\n",
    "    \n",
    "if k = 4\n",
    "then edges:  k = 4\n",
    "and  nodes:  k-1 = 3\n",
    "\n",
    "we need to save nodes and edges, then glue together the same nodes\n",
    "    \n",
    "1. traverse through input, create list of all kmers\n",
    "2. traverse through kmers, create list of prefixes\n",
    "3. traverse throigh all kmers, build adjacency list, connect all whose prefix == suffix\n",
    "4. doesnt that automcatically merge similar onces?\n",
    "```"
   ]
  },
  {
   "cell_type": "code",
   "execution_count": 36,
   "metadata": {},
   "outputs": [
    {
     "name": "stdout",
     "output_type": "stream",
     "text": [
      "['AAG', 'AGA', 'GAT', 'ATT', 'TTC', 'TCT', 'CTC', 'TCT', 'CTA', 'TAC'] 10\n",
      "['AAGA', 'AGAT', 'GATT', 'ATTC', 'TTCT', 'TCTC', 'CTCT', 'TCTA', 'CTAC'] 9\n"
     ]
    }
   ],
   "source": [
    "nodes = []\n",
    "edges = []\n",
    "n = len(text)\n",
    "kn = k-1\n",
    "\n",
    "for i in range(0, n-kn+1):\n",
    "    kmer = text[i:i+kn]\n",
    "    nodes.append(kmer)\n",
    "    \n",
    "for i in range(0, n-k+1):\n",
    "    kmer = text[i:i+k]\n",
    "    edges.append(kmer)\n",
    "    \n",
    "print(nodes, len(nodes))\n",
    "print(edges, len(edges))"
   ]
  },
  {
   "cell_type": "code",
   "execution_count": 37,
   "metadata": {},
   "outputs": [
    {
     "name": "stdout",
     "output_type": "stream",
     "text": [
      "AAG AGA\n",
      "AGA GAT\n",
      "GAT ATT\n",
      "ATT TTC\n",
      "TTC TCT\n",
      "TCT CTC\n",
      "CTC TCT\n",
      "TCT CTA\n",
      "CTA TAC\n"
     ]
    },
    {
     "data": {
      "text/plain": [
       "{'AAG': ['AGA'],\n",
       " 'AGA': ['GAT'],\n",
       " 'GAT': ['ATT'],\n",
       " 'ATT': ['TTC'],\n",
       " 'TTC': ['TCT'],\n",
       " 'TCT': ['CTC', 'CTA'],\n",
       " 'CTC': ['TCT'],\n",
       " 'CTA': ['TAC']}"
      ]
     },
     "execution_count": 37,
     "metadata": {},
     "output_type": "execute_result"
    }
   ],
   "source": [
    "# traverse through the nodes, if it exists in adj list, append, if not add to adj list\n",
    "\n",
    "adj = {}\n",
    "for i in range(0, len(nodes)-1):\n",
    "    u = nodes[i]\n",
    "    v = nodes[i+1]\n",
    "    print(u,v)\n",
    "    \n",
    "    if u in adj.keys():\n",
    "        adj[u].append(v)\n",
    "    else:\n",
    "        adj[u] = [v]\n",
    "        \n",
    "adj        "
   ]
  },
  {
   "cell_type": "code",
   "execution_count": 38,
   "metadata": {},
   "outputs": [],
   "source": [
    "def display_adjacency_list(adj_list):\n",
    "    for u in sorted(adj):\n",
    "        edge_list = ','.join(sorted(adj[u]))\n",
    "        print(f\"{u} -> {edge_list}\")"
   ]
  },
  {
   "cell_type": "code",
   "execution_count": 39,
   "metadata": {},
   "outputs": [
    {
     "name": "stdout",
     "output_type": "stream",
     "text": [
      "AAG -> AGA\n",
      "AGA -> GAT\n",
      "ATT -> TTC\n",
      "CTA -> TAC\n",
      "CTC -> TCT\n",
      "GAT -> ATT\n",
      "TCT -> CTA,CTC\n",
      "TTC -> TCT\n"
     ]
    }
   ],
   "source": [
    "# ----- OUTPUTS -----\n",
    "display_adjacency_list(adj)"
   ]
  }
 ],
 "metadata": {
  "kernelspec": {
   "display_name": "EXP1 (venv)",
   "language": "python",
   "name": "exp1-env"
  },
  "language_info": {
   "codemirror_mode": {
    "name": "ipython",
    "version": 3
   },
   "file_extension": ".py",
   "mimetype": "text/x-python",
   "name": "python",
   "nbconvert_exporter": "python",
   "pygments_lexer": "ipython3",
   "version": "3.13.5"
  }
 },
 "nbformat": 4,
 "nbformat_minor": 2
}
