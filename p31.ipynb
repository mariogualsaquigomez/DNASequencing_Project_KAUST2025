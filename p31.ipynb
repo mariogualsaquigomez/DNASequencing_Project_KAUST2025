{
 "cells": [
  {
   "cell_type": "markdown",
   "metadata": {},
   "source": [
    "## Problem 31: Reconstruct a String from its k-mer Composition\n",
    "\n",
    "#### String Reconstruction Problem\n",
    "Reconstruct a string from its k-mer composition.\n",
    "\n",
    "> Given: An integer k followed by a list of k-mers Patterns.\n",
    "\n",
    "> Return: A string Text with k-mer composition equal to Patterns. (If multiple answers exist, you may return any one.)\n",
    "\n",
    "\n",
    "<br>"
   ]
  },
  {
   "cell_type": "markdown",
   "metadata": {},
   "source": [
    "``Plan / Putting things together:``\n",
    "\n",
    "1) making a dre bogle graph. where edges are the kmers, and nodes are the prefixes/suffixes (problem 28)\n",
    "    - we'll get an adj list like \n",
    "    \n",
    "```\n",
    "        ACC -> CCA\n",
    "        \n",
    "        CTT -> TTA\n",
    "        \n",
    "        GCT -> CTT\n",
    "        \n",
    "        GGC -> GCT\n",
    "        \n",
    "        TAC -> ACC\n",
    "        \n",
    "        TTA -> TAC\n",
    "```\n",
    "\n",
    "\n",
    "2) We'll apply the eulerian path alg to those nodes [problem 30]\n",
    "    - we'll get a result like \n",
    "    ```GGC->GCT->CTT->TTA->TAC->ACC->CCA```\n",
    "\n",
    "\n",
    "3) then we'll reconstruct the string from that sequence\n",
    "    - we'll get \n",
    "    ```GGCTTACCA```"
   ]
  },
  {
   "cell_type": "code",
   "execution_count": 47,
   "metadata": {},
   "outputs": [],
   "source": [
    "# ---- INPUT -----\n",
    "\n",
    "text = \"\"\"\n",
    "4\n",
    "CTTA\n",
    "ACCA\n",
    "TACC\n",
    "GGCT\n",
    "GCTT\n",
    "TTAC\n",
    "\"\"\""
   ]
  },
  {
   "cell_type": "code",
   "execution_count": 48,
   "metadata": {},
   "outputs": [
    {
     "data": {
      "text/plain": [
       "['CTTA', 'ACCA', 'TACC', 'GGCT', 'GCTT', 'TTAC']"
      ]
     },
     "execution_count": 48,
     "metadata": {},
     "output_type": "execute_result"
    }
   ],
   "source": [
    "stripped = [ln.strip() for ln in text.splitlines() if ln.strip()]\n",
    "k = stripped[0]\n",
    "patterns = stripped[1:]\n",
    "\n",
    "patterns"
   ]
  },
  {
   "cell_type": "code",
   "execution_count": 49,
   "metadata": {},
   "outputs": [
    {
     "data": {
      "text/plain": [
       "['CTTA', 'ACCA', 'TACC']"
      ]
     },
     "execution_count": 49,
     "metadata": {},
     "output_type": "execute_result"
    }
   ],
   "source": [
    "k1 = len(patterns[0]) - 1\n",
    "patterns[:k1]"
   ]
  },
  {
   "cell_type": "code",
   "execution_count": 50,
   "metadata": {},
   "outputs": [
    {
     "data": {
      "text/plain": [
       "{'CTT': ['TTA'],\n",
       " 'ACC': ['CCA'],\n",
       " 'TAC': ['ACC'],\n",
       " 'GGC': ['GCT'],\n",
       " 'GCT': ['CTT'],\n",
       " 'TTA': ['TAC']}"
      ]
     },
     "execution_count": 50,
     "metadata": {},
     "output_type": "execute_result"
    }
   ],
   "source": [
    "adj = {}\n",
    "k = len(patterns[0])\n",
    "k1 = k - 1\n",
    "\n",
    "for p in patterns:\n",
    "    pref = p[:k1]       # (k-1)-mer prefix\n",
    "    suff = p[1:]        # (k-1)-mer suffix\n",
    "    \n",
    "    if pref not in adj:\n",
    "        adj[pref] = []\n",
    "    adj[pref].append(suff)   # we'll keep duplicates (multiple edges)\n",
    "    \n",
    "adj"
   ]
  },
  {
   "cell_type": "code",
   "execution_count": 51,
   "metadata": {},
   "outputs": [
    {
     "name": "stdout",
     "output_type": "stream",
     "text": [
      "ACC -> CCA\n",
      "CTT -> TTA\n",
      "GCT -> CTT\n",
      "GGC -> GCT\n",
      "TAC -> ACC\n",
      "TTA -> TAC\n"
     ]
    }
   ],
   "source": [
    "def display_adjacency_list(adj_list):\n",
    "    for u in sorted(adj):\n",
    "        edge_list = ','.join(sorted(adj[u]))\n",
    "        print(f\"{u} -> {edge_list}\")\n",
    "\n",
    "display_adjacency_list(adj)"
   ]
  },
  {
   "cell_type": "code",
   "execution_count": 52,
   "metadata": {},
   "outputs": [
    {
     "name": "stdout",
     "output_type": "stream",
     "text": [
      "\n",
      "start, end = ('GGC', 'CCA')\n"
     ]
    },
    {
     "data": {
      "text/plain": [
       "{'CTT': 0, 'TTA': 0, 'ACC': 0, 'CCA': -1, 'TAC': 0, 'GGC': 1, 'GCT': 0}"
      ]
     },
     "execution_count": 52,
     "metadata": {},
     "output_type": "execute_result"
    }
   ],
   "source": [
    "# Constructing and finding a eulerian path [Problem 30]\n",
    "\n",
    "diff = {}  \n",
    "\n",
    "for u, vs in adj.items():\n",
    "    \n",
    "    # add outdegrees\n",
    "    diff[u] = diff.get(u, 0) + len(vs)      \n",
    "    \n",
    "    # subtract indegrees\n",
    "    for v in vs:\n",
    "        diff[v] = diff.get(v, 0) - 1    \n",
    "        \n",
    "#     print(diff)\n",
    "\n",
    "    \n",
    "start = next((n for n in diff if diff[n] == 1), None)\n",
    "end = next((n for n in diff if diff[n] == -1), None)\n",
    "\n",
    "print(\"\\nstart, end =\", (start,end))\n",
    "diff"
   ]
  },
  {
   "cell_type": "code",
   "execution_count": 53,
   "metadata": {},
   "outputs": [],
   "source": [
    "# Constructing and finding a eulerian path [Problem 30]\n",
    "def eulerian_cycle(adj, start):\n",
    "\n",
    "    # making a shallow copy \n",
    "    g = {u: list(vs) for u, vs in adj.items()}\n",
    "\n",
    "\n",
    "#   print(\"start: \", start)\n",
    "    stack, cycle = [start], []\n",
    "\n",
    "    while stack:\n",
    "        v = stack[-1]\n",
    "        \n",
    "        # if v exists, we pop from the adj_list, and append to stack\n",
    "        if g[v]:\n",
    "            w = g[v].pop()   # consume edge v->w\n",
    "            stack.append(w)\n",
    "            \n",
    "        # if no vs under that g (all popped for that g), then we pop from stack and add to cycle\n",
    "        else:\n",
    "            popped = stack.pop()\n",
    "            cycle.append(popped)\n",
    "            \n",
    "#         print(\"\\nstack: \", stack)\n",
    "#         print(\"cycle: \", cycle)\n",
    "#         print(g)\n",
    "\n",
    "    # reverse to correct order\n",
    "    cycle.reverse()  \n",
    "    \n",
    "    return cycle\n"
   ]
  },
  {
   "cell_type": "code",
   "execution_count": 54,
   "metadata": {},
   "outputs": [],
   "source": [
    "def reconstruct_string_from_genome_path(patterns):\n",
    "    \n",
    "    reconstruction = patterns[0]\n",
    "\n",
    "    for i in range(1, len(patterns)):\n",
    "        reconstruction += patterns[i][-1]\n",
    "\n",
    "    return reconstruction"
   ]
  },
  {
   "cell_type": "code",
   "execution_count": 55,
   "metadata": {},
   "outputs": [
    {
     "name": "stdout",
     "output_type": "stream",
     "text": [
      "GGC->GCT->CTT->TTA->TAC->ACC->CCA\n"
     ]
    },
    {
     "data": {
      "text/plain": [
       "['GGC', 'GCT', 'CTT', 'TTA', 'TAC', 'ACC', 'CCA']"
      ]
     },
     "execution_count": 55,
     "metadata": {},
     "output_type": "execute_result"
    }
   ],
   "source": [
    "# add an edge from start to end\n",
    "adj[end] = adj.get(end, []) + [start]\n",
    "\n",
    "# eul path: get eul cycle with the correct start, then remove the final edge we augmented\n",
    "cycle = eulerian_cycle(adj, start)[:-1]\n",
    "\n",
    "path_str = \"->\".join(cycle)\n",
    "print(path_str)\n",
    "cycle"
   ]
  },
  {
   "cell_type": "code",
   "execution_count": 56,
   "metadata": {},
   "outputs": [
    {
     "data": {
      "text/plain": [
       "'GGCTTACCA'"
      ]
     },
     "execution_count": 56,
     "metadata": {},
     "output_type": "execute_result"
    }
   ],
   "source": [
    "# reconstruction algorithm from [Problem 25]\n",
    "reconstructed = reconstruct_string_from_genome_path(cycle)\n",
    "reconstructed"
   ]
  }
 ],
 "metadata": {
  "kernelspec": {
   "display_name": "EXP1 (venv)",
   "language": "python",
   "name": "exp1-env"
  },
  "language_info": {
   "codemirror_mode": {
    "name": "ipython",
    "version": 3
   },
   "file_extension": ".py",
   "mimetype": "text/x-python",
   "name": "python",
   "nbconvert_exporter": "python",
   "pygments_lexer": "ipython3",
   "version": "3.13.5"
  }
 },
 "nbformat": 4,
 "nbformat_minor": 2
}
