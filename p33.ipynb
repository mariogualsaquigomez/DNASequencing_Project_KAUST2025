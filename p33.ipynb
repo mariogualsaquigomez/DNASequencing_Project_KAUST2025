{
 "cells": [
  {
   "cell_type": "markdown",
   "metadata": {},
   "source": [
    "## Problem 33: Reconstruct a String from its Paired Composition\n",
    "\n",
    "\n",
    "#### String Reconstruction from Read-Pairs Problem\n",
    "Reconstruct a string from its paired composition.\n",
    "\n",
    "> Given: Integers k and d followed by a collection of paired k-mers PairedReads.\n",
    "\n",
    "> Return: A string Text with (k, d)-mer composition equal to PairedReads. (If multiple answers exist, you may return any one.)\n",
    "\n",
    "\n",
    "<br>"
   ]
  },
  {
   "cell_type": "code",
   "execution_count": 65,
   "metadata": {},
   "outputs": [],
   "source": [
    "# ---- INPUT -----\n",
    "\n",
    "input = \"\"\"\n",
    "4 2\n",
    "GAGA|TTGA\n",
    "TCGT|GATG\n",
    "CGTG|ATGT\n",
    "TGGT|TGAG\n",
    "GTGA|TGTT\n",
    "GTGG|GTGA\n",
    "TGAG|GTTG\n",
    "GGTC|GAGA\n",
    "GTCG|AGAT\n",
    "\"\"\""
   ]
  },
  {
   "cell_type": "code",
   "execution_count": 66,
   "metadata": {},
   "outputs": [
    {
     "name": "stdout",
     "output_type": "stream",
     "text": [
      "4 2\n"
     ]
    },
    {
     "data": {
      "text/plain": [
       "['GAGA|TTGA',\n",
       " 'TCGT|GATG',\n",
       " 'CGTG|ATGT',\n",
       " 'TGGT|TGAG',\n",
       " 'GTGA|TGTT',\n",
       " 'GTGG|GTGA',\n",
       " 'TGAG|GTTG',\n",
       " 'GGTC|GAGA',\n",
       " 'GTCG|AGAT']"
      ]
     },
     "execution_count": 66,
     "metadata": {},
     "output_type": "execute_result"
    }
   ],
   "source": [
    "lines = [ln.strip() for ln in input.splitlines() if ln.strip()]\n",
    "k, d = map(int, lines[0].split())\n",
    "\n",
    "pairs = [ln for ln in lines[1:]]\n",
    "print(k, d)\n",
    "pairs"
   ]
  },
  {
   "cell_type": "code",
   "execution_count": 67,
   "metadata": {},
   "outputs": [],
   "source": [
    "# building a paired de Bruijn adjacency:\n",
    "    # node format: \"LLL|RRR\" (each length k-1)\n",
    "    # edge: (prefix(L)|prefix(R)) -> (suffix(L)|suffix(R))\n",
    "\n",
    "k1 = k - 1\n",
    "adj = {}\n",
    "\n",
    "for pr in pairs:\n",
    "    L, R = pr.split(\"|\")\n",
    "    left_pref,  right_pref  = L[:k1], R[:k1]\n",
    "    left_suff,  right_suff  = L[1:],  R[1:]\n",
    "    u = f\"{left_pref}|{right_pref}\"\n",
    "    v = f\"{left_suff}|{right_suff}\"\n",
    "    adj[u] = adj.get(u, []) + [v]\n",
    "    \n",
    "    if v not in adj: \n",
    "        adj[v] = []\n",
    "\n",
    "\n",
    "# adj"
   ]
  },
  {
   "cell_type": "code",
   "execution_count": 68,
   "metadata": {},
   "outputs": [
    {
     "name": "stdout",
     "output_type": "stream",
     "text": [
      "GTG|GTG AGA|TGA\n"
     ]
    }
   ],
   "source": [
    "# (3) START/END (Eulerian path) — same diff trick we used\n",
    "diff = {}\n",
    "for u, vs in adj.items():\n",
    "    diff[u] = diff.get(u, 0) + len(vs)   # outdeg\n",
    "    for v in vs:\n",
    "        diff[v] = diff.get(v, 0) - 1     # indeg\n",
    "\n",
    "start = next((n for n in diff if diff[n] ==  1), None)\n",
    "end   = next((n for n in diff if diff[n] == -1), None)\n",
    "\n",
    "# If it's already a cycle (no start/end), just pick any node with edges\n",
    "if start is None:\n",
    "    start = next((u for u, vs in adj.items() if vs), None)\n",
    "    end   = start\n",
    "\n",
    "print(start, end)\n",
    "# diff"
   ]
  },
  {
   "cell_type": "code",
   "execution_count": 70,
   "metadata": {},
   "outputs": [],
   "source": [
    "# add edge end->start\n",
    "adj[end] = adj.get(end, []) + [start]"
   ]
  },
  {
   "cell_type": "code",
   "execution_count": 69,
   "metadata": {},
   "outputs": [],
   "source": [
    "def eulerian_cycle(adj, start):\n",
    "    g = {u: list(vs) for u, vs in adj.items()}\n",
    "    stack, cycle = [start], []\n",
    "    while stack:\n",
    "        v = stack[-1]\n",
    "        if g[v]:\n",
    "            w = g[v].pop()\n",
    "            stack.append(w)\n",
    "        else:\n",
    "            cycle.append(stack.pop())\n",
    "    cycle.reverse()\n",
    "    return cycle\n",
    "\n",
    "def reconstruct_string_from_genome_path(nodes):\n",
    "    s = nodes[0]\n",
    "    for i in range(1, len(nodes)):\n",
    "        s += nodes[i][-1]\n",
    "    return s"
   ]
  },
  {
   "cell_type": "code",
   "execution_count": 71,
   "metadata": {},
   "outputs": [],
   "source": [
    "# cycle, then remove the last node to “open” at that artificial edge\n",
    "cycle = eulerian_cycle(adj, start)\n",
    "path_nodes  = cycle[:-1]\n",
    "\n",
    "path_str = \" -> \".join(cycle)\n",
    "# print(path_str)\n",
    "# cycle[:-1]"
   ]
  },
  {
   "cell_type": "code",
   "execution_count": 72,
   "metadata": {},
   "outputs": [],
   "source": [
    "# reconstructing Left and Right strings from the node path, then MERGE with offset (k+d)\n",
    "\n",
    "# Split \"LLL|RRR\" nodes into two parallel (k-1)-node paths\n",
    "left_nodes  = [node.split(\"|\")[0] for node in path_nodes]\n",
    "right_nodes = [node.split(\"|\")[1] for node in path_nodes]\n",
    "\n",
    "Left  = reconstruct_string_from_genome_path(left_nodes)\n",
    "Right = reconstruct_string_from_genome_path(right_nodes)\n",
    "\n",
    "offset = k + d"
   ]
  },
  {
   "cell_type": "code",
   "execution_count": 73,
   "metadata": {},
   "outputs": [
    {
     "name": "stdout",
     "output_type": "stream",
     "text": [
      "GTGAGATGTTGA\n",
      "GTGGTCGTGAGA\n",
      "^^^^^^GTGAGATGTTGA\n",
      "GTGGTCGTGAGATGTTGA\n"
     ]
    }
   ],
   "source": [
    "# where’s the offset?\n",
    "# A (k,d)-pair is “k bases (Left), then d hidden bases, then k bases (Right).”\n",
    "# So the first Right character that should align with Left is k + d positions later.\n",
    "\n",
    "print(Right)\n",
    "print(Left)\n",
    "print(\"^\"*(len(Left)-offset) + Right)\n",
    "print(Left + Right[-offset:])"
   ]
  },
  {
   "cell_type": "code",
   "execution_count": 79,
   "metadata": {},
   "outputs": [
    {
     "name": "stdout",
     "output_type": "stream",
     "text": [
      "reconstructed =\n",
      "GTGGTCGTGAGATGTTGA\n"
     ]
    }
   ],
   "source": [
    "# ---- OUTPUT -----\n",
    "\n",
    "# merge based on calc above\n",
    "reconstructed = Left + Right[-offset:]\n",
    "print(\"reconstructed =\")\n",
    "print(reconstructed)\n"
   ]
  }
 ],
 "metadata": {
  "kernelspec": {
   "display_name": "EXP1 (venv)",
   "language": "python",
   "name": "exp1-env"
  },
  "language_info": {
   "codemirror_mode": {
    "name": "ipython",
    "version": 3
   },
   "file_extension": ".py",
   "mimetype": "text/x-python",
   "name": "python",
   "nbconvert_exporter": "python",
   "pygments_lexer": "ipython3",
   "version": "3.13.5"
  }
 },
 "nbformat": 4,
 "nbformat_minor": 2
}
