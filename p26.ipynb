{
 "cells": [
  {
   "cell_type": "markdown",
   "metadata": {},
   "source": [
    "## Problem 26: Construct the Overlap Graph of a Collection of k-mers\n",
    "\n",
    "\n",
    "#### Overlap Graph Problem\n",
    "Construct the overlap graph of a collection of k-mers.\n",
    "\n",
    "> Given: A collection Patterns of k-mers.\n",
    "\n",
    "> Return: The overlap graph Overlap(Patterns), in the form of an adjacency list.\n",
    "\n",
    "<br>"
   ]
  },
  {
   "cell_type": "code",
   "execution_count": 43,
   "metadata": {},
   "outputs": [],
   "source": [
    "# ----- INPUTS -----\n",
    "input = \"\"\"\n",
    "ATGCG\n",
    "GCATG\n",
    "CATGC\n",
    "AGGCA\n",
    "GGCAT\n",
    "\"\"\""
   ]
  },
  {
   "cell_type": "code",
   "execution_count": 44,
   "metadata": {},
   "outputs": [
    {
     "data": {
      "text/plain": [
       "['ATGCG', 'GCATG', 'CATGC', 'AGGCA', 'GGCAT']"
      ]
     },
     "execution_count": 44,
     "metadata": {},
     "output_type": "execute_result"
    }
   ],
   "source": [
    "patterns = [ln.strip() for ln in input.splitlines() if ln.strip()]\n",
    "patterns"
   ]
  },
  {
   "cell_type": "code",
   "execution_count": 45,
   "metadata": {},
   "outputs": [],
   "source": [
    "# build index: {prefix -> list of k-mers with that prefix}\n",
    "k = len(patterns[0])\n",
    "k1 = k-1\n",
    "prefix_list = {}\n",
    "\n",
    "\n",
    "for kmer in patterns:\n",
    "    prefix = kmer[:k1]\n",
    "    \n",
    "    if prefix not in prefix_list:\n",
    "        prefix_list[prefix] = []\n",
    "    prefix_list[prefix].append(kmer)\n",
    "    \n",
    "# prefix_list"
   ]
  },
  {
   "cell_type": "code",
   "execution_count": 46,
   "metadata": {},
   "outputs": [],
   "source": [
    "# build adjacency list: for each k-mer, connect to all whose prefix == its suffix\n",
    "adj = {}\n",
    "for p in patterns:\n",
    "    suff = p[-k1:]\n",
    "    if suff in prefix_list:\n",
    "        adj[p] = list(prefix_list[suff])\n",
    "        \n",
    "# adj"
   ]
  },
  {
   "cell_type": "code",
   "execution_count": 47,
   "metadata": {},
   "outputs": [
    {
     "name": "stdout",
     "output_type": "stream",
     "text": [
      "AGGCA -> GGCAT\n",
      "CATGC -> ATGCG\n",
      "GCATG -> CATGC\n",
      "GGCAT -> GCATG\n"
     ]
    }
   ],
   "source": [
    "# ----- OUTPUTS -----\n",
    "\n",
    "for node in sorted(adj):\n",
    "    edge_list = ','.join(sorted(adj[node]))\n",
    "    print(f\"{node} -> {edge_list}\")"
   ]
  }
 ],
 "metadata": {
  "kernelspec": {
   "display_name": "EXP1 (venv)",
   "language": "python",
   "name": "exp1-env"
  },
  "language_info": {
   "codemirror_mode": {
    "name": "ipython",
    "version": 3
   },
   "file_extension": ".py",
   "mimetype": "text/x-python",
   "name": "python",
   "nbconvert_exporter": "python",
   "pygments_lexer": "ipython3",
   "version": "3.13.5"
  }
 },
 "nbformat": 4,
 "nbformat_minor": 2
}
