{
 "cells": [
  {
   "cell_type": "markdown",
   "metadata": {},
   "source": [
    "## Problem 30: Find an Eulerian Path in a Graph\n",
    "\n",
    "#### Eulerian Path Problem\n",
    "Find an Eulerian path in a graph.\n",
    "\n",
    "> Given: A directed graph that contains an Eulerian path, where the graph is given in the form of an adjacency list.\n",
    "\n",
    "> Return: An Eulerian path in this graph.\n",
    "\n",
    "\n",
    "<br>"
   ]
  },
  {
   "cell_type": "markdown",
   "metadata": {},
   "source": [
    "#### Differences: \n",
    "\n",
    "**Eulerian cycle (term):**\n",
    "\n",
    "Closed walk that uses every edge exactly once and ends where it started.\n",
    "Condition (directed): every node has outdeg = indeg, and the edge-carrying part is connected.\n",
    "\n",
    "**Eulerian path:**\n",
    "\n",
    "Walk that uses every edge exactly once but start and end can differ.\n",
    "Condition (directed): exactly one node has outdeg = indeg + 1 (start), exactly one has indeg = outdeg + 1 (end), all others balanced, and the edge-carrying part is connected.\n",
    "\n",
    "**Why this matters:**\n",
    "\n",
    "In assembly graphs (e.g., de Bruijn), a cycle reconstructs a circular/genome-like structure; a path reconstructs a linear sequence with defined start/end."
   ]
  },
  {
   "cell_type": "markdown",
   "metadata": {},
   "source": [
    "--\n",
    "\n",
    "So, we can reuse our prev eulerian cycle function with some edits:\n",
    "\n",
    "1. we find the start (out−in = +1) and end (−1).\n",
    "2. we can then add a temporary edge from end -> start.\n",
    "3. run eulerian cycle on this augmented graph\n",
    "4. in the result cycle, split at that added edge to linearize it into an Eulerian path from start to end."
   ]
  },
  {
   "cell_type": "markdown",
   "metadata": {},
   "source": [
    "--\n",
    "\n",
    "Example:\n",
    "\n",
    "```\n",
    "0 -> 2\n",
    "1 -> 3\n",
    "2 -> 1\n",
    "3 -> 0,4\n",
    "6 -> 3,7\n",
    "7 -> 8\n",
    "8 -> 9\n",
    "9 -> 6\n",
    "```\n",
    "\n",
    "```\n",
    "        ┌─────► 7 ─────► 8 ─────► 9 ─────► 6 ─────┐\n",
    "        │                                         │\n",
    "(start) 6                                         │\n",
    "        │                                         │\n",
    "        └─────► 3 ─────► 0 ─────► 2 ─────► 1 ─────┘\n",
    "                                  │\n",
    "                                  └────────► 3 ─────► 4 (end)\n",
    "```\n",
    "\n"
   ]
  },
  {
   "cell_type": "code",
   "execution_count": 98,
   "metadata": {},
   "outputs": [],
   "source": [
    "# ---- INPUT -----\n",
    "\n",
    "text = \"\"\"\n",
    "0 -> 2\n",
    "1 -> 3\n",
    "2 -> 1\n",
    "3 -> 0,4\n",
    "6 -> 3,7\n",
    "7 -> 8\n",
    "8 -> 9\n",
    "9 -> 6\n",
    "\"\"\""
   ]
  },
  {
   "cell_type": "code",
   "execution_count": 99,
   "metadata": {},
   "outputs": [],
   "source": [
    "# pasring and building an adjacency dict (node -> list of neighbors)\n",
    "\n",
    "adj = {}\n",
    "nodes = set()\n",
    "\n",
    "for line in text.strip().splitlines():\n",
    "    left, right = [p.strip() for p in line.split(\"->\")]\n",
    "    u = left\n",
    "    v_list = [v.strip() for v in right.split(\",\")] if right else []\n",
    "    \n",
    "    \n",
    "    # tries to get val at u, if it doesnt exist itll initialize it to [], then appends v_list\n",
    "    adj[u] = adj.get(u, []) + v_list\n",
    "    nodes.add(u)\n",
    "    for v in v_list:\n",
    "        nodes.add(v)\n",
    "\n",
    "# error fixed (important): making sure nodes with zero out-degree appear, so we dont get stuck as we cycle\n",
    "for n in nodes:\n",
    "    if n not in adj:\n",
    "        adj[n] = []\n",
    "\n",
    "# adj"
   ]
  },
  {
   "cell_type": "code",
   "execution_count": 100,
   "metadata": {},
   "outputs": [
    {
     "name": "stdout",
     "output_type": "stream",
     "text": [
      "\n",
      "start, end = ('6', '4')\n"
     ]
    }
   ],
   "source": [
    "# finding the start and end\n",
    "# makign a dict, such that if there's a differnece between outdegrees and indegrees of a node\n",
    "# then we can identify the start or end\n",
    "\n",
    "# will hold (outdeg - indeg)\n",
    "diff = {}  \n",
    "\n",
    "for u, vs in adj.items():\n",
    "    \n",
    "    # add outdegrees\n",
    "    diff[u] = diff.get(u, 0) + len(vs)      \n",
    "    \n",
    "    # subtract indegrees\n",
    "    for v in vs:\n",
    "        diff[v] = diff.get(v, 0) - 1    \n",
    "        \n",
    "#     print(diff)\n",
    "\n",
    "    \n",
    "start = next((n for n in diff if diff[n] == 1), None)\n",
    "end = next((n for n in diff if diff[n] == -1), None)\n",
    "\n",
    "print(\"\\nstart, end =\", (start,end))"
   ]
  },
  {
   "cell_type": "code",
   "execution_count": 101,
   "metadata": {},
   "outputs": [],
   "source": [
    "# important assumption: graph is eulerian, meaning all nodes have \n",
    "# outgoing edges equal to incoming edges for a given node\n",
    "# other: edges = nodes-1 for a closed walk\n",
    "\n",
    "def eulerian_cycle(adj, start):\n",
    "\n",
    "    # making a shallow copy \n",
    "    g = {u: list(vs) for u, vs in adj.items()}\n",
    "\n",
    "\n",
    "#   print(\"start: \", start)\n",
    "    stack, cycle = [start], []\n",
    "\n",
    "    while stack:\n",
    "        v = stack[-1]\n",
    "        \n",
    "        # if v exists, we pop from the adj_list, and append to stack\n",
    "        if g[v]:\n",
    "            w = g[v].pop()   # consume edge v->w\n",
    "            stack.append(w)\n",
    "            \n",
    "        # if no vs under that g (all popped for that g), then we pop from stack and add to cycle\n",
    "        else:\n",
    "            popped = stack.pop()\n",
    "            cycle.append(popped)\n",
    "            \n",
    "#         print(\"\\nstack: \", stack)\n",
    "#         print(\"cycle: \", cycle)\n",
    "#         print(g)\n",
    "\n",
    "    # reverse to correct order\n",
    "    cycle.reverse()  \n",
    "    \n",
    "    return cycle\n",
    "\n"
   ]
  },
  {
   "cell_type": "code",
   "execution_count": 102,
   "metadata": {},
   "outputs": [
    {
     "name": "stdout",
     "output_type": "stream",
     "text": [
      "6->7->8->9->6->3->0->2->1->3->4\n"
     ]
    }
   ],
   "source": [
    "# add an edge from start to end\n",
    "adj[end] = adj.get(end, []) + [start]\n",
    "\n",
    "# eul path: get eul cycle with the correct start, then remove the final edge we augmented\n",
    "cycle = eulerian_cycle(adj, start)[:-1]\n",
    "\n",
    "path_str = \"->\".join(cycle)\n",
    "print(path_str)"
   ]
  }
 ],
 "metadata": {
  "kernelspec": {
   "display_name": "EXP1 (venv)",
   "language": "python",
   "name": "exp1-env"
  },
  "language_info": {
   "codemirror_mode": {
    "name": "ipython",
    "version": 3
   },
   "file_extension": ".py",
   "mimetype": "text/x-python",
   "name": "python",
   "nbconvert_exporter": "python",
   "pygments_lexer": "ipython3",
   "version": "3.13.5"
  }
 },
 "nbformat": 4,
 "nbformat_minor": 2
}
