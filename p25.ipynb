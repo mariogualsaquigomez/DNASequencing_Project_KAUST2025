{
 "cells": [
  {
   "cell_type": "markdown",
   "metadata": {},
   "source": [
    "## Problem 25: Reconstruct a String from its Genome Path\n",
    "\n",
    "#### String Spelled by a Genome Path Problem\n",
    "Find the string spelled by a genome path.\n",
    "\n",
    "> Given: A sequence of k-mers Pattern1, ... , Patternn such that the last k - 1 symbols of Patterni are equal to the first k - 1 symbols of Patterni+1 for i from 1 to n-1.\n",
    "\n",
    "> Return: A string Text of length k+n-1 where the i-th k-mer in Text is equal to Patterni for all i.\n",
    "\n",
    "\n",
    "<br>"
   ]
  },
  {
   "cell_type": "code",
   "execution_count": 9,
   "metadata": {},
   "outputs": [],
   "source": [
    "# ----- INPUTS -----\n",
    "input = \"\"\"\n",
    "AAT\n",
    "ATG\n",
    "GTT\n",
    "TAA\n",
    "TGT\n",
    "\"\"\""
   ]
  },
  {
   "cell_type": "code",
   "execution_count": 10,
   "metadata": {},
   "outputs": [
    {
     "data": {
      "text/plain": [
       "['AAT', 'ATG', 'GTT', 'TAA', 'TGT']"
      ]
     },
     "execution_count": 10,
     "metadata": {},
     "output_type": "execute_result"
    }
   ],
   "source": [
    "patterns = [ln.strip() for ln in input.splitlines() if ln.strip()]\n",
    "patterns"
   ]
  },
  {
   "cell_type": "code",
   "execution_count": 11,
   "metadata": {},
   "outputs": [],
   "source": [
    "# idea: take the first element, \"ACCGA\", go to each subsequent element, and only append the final letter\n",
    "\n",
    "def reconstruct_string_from_genome_path(patterns):\n",
    "    \n",
    "    reconstruction = patterns[0]\n",
    "\n",
    "    for i in range(1, len(patterns)):\n",
    "        reconstruction += patterns[i][-1]\n",
    "\n",
    "    return reconstruction"
   ]
  },
  {
   "cell_type": "code",
   "execution_count": 13,
   "metadata": {},
   "outputs": [
    {
     "name": "stdout",
     "output_type": "stream",
     "text": [
      "AATGTAT\n"
     ]
    }
   ],
   "source": [
    "# ----- OUTPUTS -----\n",
    "reconstructed_str = reconstruct_string_from_genome_path(patterns)\n",
    "print(reconstructed_str)"
   ]
  }
 ],
 "metadata": {
  "kernelspec": {
   "display_name": "EXP1 (venv)",
   "language": "python",
   "name": "exp1-env"
  },
  "language_info": {
   "codemirror_mode": {
    "name": "ipython",
    "version": 3
   },
   "file_extension": ".py",
   "mimetype": "text/x-python",
   "name": "python",
   "nbconvert_exporter": "python",
   "pygments_lexer": "ipython3",
   "version": "3.13.5"
  }
 },
 "nbformat": 4,
 "nbformat_minor": 2
}
