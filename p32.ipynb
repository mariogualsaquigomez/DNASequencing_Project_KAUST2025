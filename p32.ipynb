{
 "cells": [
  {
   "cell_type": "markdown",
   "metadata": {},
   "source": [
    "## Problem 31: Find a k-Universal Circular String\n",
    "\n",
    "\n",
    "#### k-Universal Circular String Problem\n",
    "\n",
    "Find a k-universal circular binary string.\n",
    "\n",
    "> Given: An integer k.\n",
    "\n",
    "> Return: A k-universal circular string. (If multiple answers exist, you may return any one.)\n",
    "\n",
    "\n",
    "\n",
    "<br>"
   ]
  },
  {
   "cell_type": "code",
   "execution_count": 136,
   "metadata": {},
   "outputs": [],
   "source": [
    "# ---- INPUT -----\n",
    "\n",
    "k = 9"
   ]
  },
  {
   "cell_type": "code",
   "execution_count": 142,
   "metadata": {},
   "outputs": [],
   "source": [
    "from itertools import product\n",
    "\n",
    "alphabet = \"01\"\n",
    "\n",
    "kmers = [''.join(t) for t in product(alphabet, repeat=k)]\n",
    "# kmers"
   ]
  },
  {
   "cell_type": "code",
   "execution_count": 138,
   "metadata": {},
   "outputs": [
    {
     "data": {
      "text/plain": [
       "'00000001'"
      ]
     },
     "execution_count": 138,
     "metadata": {},
     "output_type": "execute_result"
    }
   ],
   "source": [
    "kmers[2][:-1]"
   ]
  },
  {
   "cell_type": "code",
   "execution_count": 161,
   "metadata": {},
   "outputs": [],
   "source": [
    "adj = {}\n",
    "\n",
    "for kmer in kmers:\n",
    "    pref = kmer[:-1]       # (k-1)-mer prefix\n",
    "    suff = kmer[1:]        # (k-1)-mer suffix\n",
    "    \n",
    "    # noted ltr: could also have done: adj.setdefault(u, []).append(v)\n",
    "    if pref not in adj:\n",
    "        adj[pref] = []\n",
    "    adj[pref].append(suff) \n",
    "    \n",
    "    if suff not in adj:\n",
    "        adj[suff] = []\n",
    "    \n",
    "# adj"
   ]
  },
  {
   "cell_type": "code",
   "execution_count": 160,
   "metadata": {},
   "outputs": [
    {
     "name": "stdout",
     "output_type": "stream",
     "text": [
      "\n",
      "start, end = ('00000000', '11111111')\n"
     ]
    }
   ],
   "source": [
    "# Constructing and finding a eulerian path [Problem 30]\n",
    "\n",
    "# in this case we'll just choose start to be the first node, end to be the last\n",
    "# since diff will be equal for all \n",
    "\n",
    "nodes = list(adj.keys())\n",
    "\n",
    "start = nodes[0]\n",
    "end = nodes[-1]\n",
    "\n",
    "print(\"\\nstart, end =\", (start,end))\n",
    "# nodes"
   ]
  },
  {
   "cell_type": "code",
   "execution_count": 151,
   "metadata": {},
   "outputs": [],
   "source": [
    "# add an edge from end to start\n",
    "adj[end] = adj.get(end, []) + [start]"
   ]
  },
  {
   "cell_type": "code",
   "execution_count": 162,
   "metadata": {},
   "outputs": [],
   "source": [
    "def display_adjacency_list(adj_list):\n",
    "    for u in sorted(adj):\n",
    "        edge_list = ','.join(sorted(adj[u]))\n",
    "        print(f\"{u} -> {edge_list}\")\n",
    "\n",
    "# display_adjacency_list(adj)"
   ]
  },
  {
   "cell_type": "code",
   "execution_count": 153,
   "metadata": {},
   "outputs": [],
   "source": [
    "# Constructing and finding a eulerian path [Problem 30]\n",
    "def eulerian_cycle(adj, start):\n",
    "\n",
    "    # making a shallow copy \n",
    "    g = {u: list(vs) for u, vs in adj.items()}\n",
    "    \n",
    "    if start == None:\n",
    "        # choose a start node with outgoing edges\n",
    "        start = next((u for u in g if g[u]), None)\n",
    "    \n",
    "    stack, cycle = [start], []\n",
    "\n",
    "\n",
    "    while stack:\n",
    "        v = stack[-1]\n",
    "        \n",
    "        # if v exists, we pop from the adj_list, and append to stack\n",
    "        if g[v]:\n",
    "            w = g[v].pop()   # consume edge v->w\n",
    "            stack.append(w)\n",
    "            \n",
    "        # if no vs under that g (all popped for that g), then we pop from stack and add to cycle\n",
    "        else:\n",
    "            popped = stack.pop()\n",
    "            cycle.append(popped)\n",
    "            \n",
    "    # reverse to correct order\n",
    "    cycle.reverse()  \n",
    "    \n",
    "    return cycle\n"
   ]
  },
  {
   "cell_type": "code",
   "execution_count": 154,
   "metadata": {},
   "outputs": [],
   "source": [
    "def reconstruct_string_from_genome_path(patterns):\n",
    "    \n",
    "    reconstruction = patterns[0]\n",
    "\n",
    "    for i in range(1, len(patterns)):\n",
    "        reconstruction += patterns[i][-1]\n",
    "\n",
    "    return reconstruction"
   ]
  },
  {
   "cell_type": "code",
   "execution_count": 155,
   "metadata": {},
   "outputs": [],
   "source": [
    "# eul path: get eul cycle with the correct start, then remove the final edge we augmented\n",
    "cycle = eulerian_cycle(adj, start)[:-1]\n",
    "\n",
    "path_str = \"->\".join(cycle)\n",
    "# print(path_str)\n",
    "# cycle"
   ]
  },
  {
   "cell_type": "code",
   "execution_count": 163,
   "metadata": {},
   "outputs": [],
   "source": [
    "# reconstruction algorithm from [Problem 25]\n",
    "reconstructed = reconstruct_string_from_genome_path(cycle)\n",
    "# reconstructed"
   ]
  },
  {
   "cell_type": "code",
   "execution_count": 159,
   "metadata": {},
   "outputs": [
    {
     "data": {
      "text/plain": [
       "'00000000111111111011111110011111101011111100011111011011111010011111001011111000011110111011110110011110101011110100011110011011110010011110001011110000011101110011101101011101100011101011011101010011101001011101000011100110011100101011100100011100011011100010011100001011100000011011011010011011001011011000011010110011010101011010100011010010011010001011010000011001100011001010011001001011001000011000101011000100011000010011000001011000000010101010010101000010100100010100010010100000010010010000010001000010'"
      ]
     },
     "execution_count": 159,
     "metadata": {},
     "output_type": "execute_result"
    }
   ],
   "source": [
    "# ----- OUTPUTS -----\n",
    "\n",
    "# we need 2^k = 2^4 = 16 (if k=4 for example), in this case, so we drop the last node's length, k-1=3 chars in this case\n",
    "k1 = k-1\n",
    "reconstructed[:-k1]\n"
   ]
  }
 ],
 "metadata": {
  "kernelspec": {
   "display_name": "EXP1 (venv)",
   "language": "python",
   "name": "exp1-env"
  },
  "language_info": {
   "codemirror_mode": {
    "name": "ipython",
    "version": 3
   },
   "file_extension": ".py",
   "mimetype": "text/x-python",
   "name": "python",
   "nbconvert_exporter": "python",
   "pygments_lexer": "ipython3",
   "version": "3.13.5"
  }
 },
 "nbformat": 4,
 "nbformat_minor": 2
}
